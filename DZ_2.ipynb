{
 "cells": [
  {
   "cell_type": "markdown",
   "metadata": {},
   "source": [
    "Задание 1. Даны 2 строки: long_phrase и short_phrase. Напишите код, который проверяет действительно ли длинная фраза long_phrase длиннее короткой short_phrase. И выводит True или False в зависимости от результата сравнения."
   ]
  },
  {
   "cell_type": "code",
   "execution_count": 1,
   "metadata": {},
   "outputs": [
    {
     "data": {
      "text/plain": [
       "True"
      ]
     },
     "execution_count": 1,
     "metadata": {},
     "output_type": "execute_result"
    }
   ],
   "source": [
    "long_phrase = 'Насколько проще было бы писать программы, если бы не заказчики'\n",
    "short_phrase = '640Кб должно хватить для любых задач. Билл Гейтс (по легенде)'\n",
    "len(long_phrase) > len(short_phrase)"
   ]
  },
  {
   "cell_type": "markdown",
   "metadata": {},
   "source": [
    "Задание 2. Дано значение объема файла в байтах (в мегабайте 2^20 байт). Напишите перевод этого значения в мегабайты в формате: \"Объем файла равен 213.68Mb\"."
   ]
  },
  {
   "cell_type": "code",
   "execution_count": 7,
   "metadata": {},
   "outputs": [
    {
     "name": "stdout",
     "output_type": "stream",
     "text": [
      "Объем файла равен 213.68 Mb\n"
     ]
    }
   ],
   "source": [
    "print('Объем файла равен', 224059719.68 /(2**20), 'Mb')"
   ]
  },
  {
   "cell_type": "markdown",
   "metadata": {},
   "source": [
    "Разработать приложение для определения знака зодиака по дате рождения."
   ]
  },
  {
   "cell_type": "code",
   "execution_count": 10,
   "metadata": {},
   "outputs": [
    {
     "name": "stdout",
     "output_type": "stream",
     "text": [
      "Введите месяциюнь\n",
      "Введите число15\n",
      "близнецы\n"
     ]
    }
   ],
   "source": [
    "user1 = input('Введите месяц')\n",
    "user2 = int(input('Введите число'))\n",
    "if (user1 == 'январь' and user2 >= 20) or (user1 == 'февраль' and user2 < 20):\n",
    "    print('водолей')\n",
    "elif (user1 == 'февраль' and user2 >= 20) or (user1 == 'март' and user2 < 21):\n",
    "    print('рыбы')\n",
    "elif (user1 == 'март' and user2 >= 21) or (user1 == 'апрель' and user2 < 21):\n",
    "    print('овен')\n",
    "elif (user1 == 'апрель' and user2 >= 21) or (user1 == 'май' and user2 < 21):\n",
    "    print('телец')\n",
    "elif (user1 == 'май' and user2 >= 21) or (user1 == 'июнь' and user2 < 21):\n",
    "    print('близнецы')\n",
    "elif (user1 == 'июнь' and user2 >= 21) or (user1 == 'июль' and user2 < 23):\n",
    "    print('рак')\n",
    "elif (user1 == 'июль' and user2 >= 23) or (user1 == 'август' and user2 < 23):\n",
    "    print('лев')\n",
    "elif (user1 == 'август' and user2 >= 23) or (user1 == 'сентябрь' and user2 < 23):\n",
    "    print('дева')\n",
    "elif (user1 == 'сентябрь' and user2 >= 23) or (user1 == 'октябрь' and user2 < 23):\n",
    "    print('весы')\n",
    "elif (user1 == 'октябрь' and user2 >= 23) or (user1 == 'ноябрь' and user2 < 23):\n",
    "    print('скорпион')\n",
    "elif (user1 == 'ноябрь' and user2 >= 23) or (user1 == 'декабрь' and user2 < 22):\n",
    "    print('стрелец')\n",
    "else:\n",
    "    print('козерог')"
   ]
  },
  {
   "cell_type": "markdown",
   "metadata": {},
   "source": [
    "Задание 4. Нужно разработать приложение для финансового планирования. Приложение учитывает сколько уходит на ипотеку, \"на жизнь\" и сколько нужно отложить на пенсию. Пользователь вводит:\n",
    "\n",
    "заработанную плату в месяц.\n",
    "сколько процентов от ЗП уходит на ипотеку.\n",
    "сколько процентов от ЗП уходит \"на жизнь\".\n",
    "сколько раз приходит премия в год.\n",
    "Остальная часть заработанной платы откладывается на пенсию.\n",
    "\n",
    "Также пользователю приходит премия в размере зарплаты, от которой половина уходит на отпуск, а вторая половина откладывается.\n",
    "\n",
    "Программа должна учитывать сколько премий было в год.\n",
    "\n",
    "Нужно вывести сколько денег тратит пользователь на ипотеку и сколько он накопит за год."
   ]
  },
  {
   "cell_type": "code",
   "execution_count": 22,
   "metadata": {},
   "outputs": [
    {
     "name": "stdout",
     "output_type": "stream",
     "text": [
      "Введите Вашу заработную плату в месяц100000\n",
      "Введите сколько процентов уходит на ипотеку30\n",
      "Введите сколько процентов уходит на жизнь50\n",
      "Введите количества премий за год2\n",
      "На ипотеку было потрачено 360000 рублей\n",
      "Было накоплено 340000 рублей\n"
     ]
    }
   ],
   "source": [
    "zp = int(input('Введите Вашу заработную плату в месяц'))\n",
    "ip = int(input('Введите сколько процентов уходит на ипотеку')) \n",
    "life = int(input('Введите сколько процентов уходит на жизнь'))\n",
    "bonus = int(input('Введите количества премий за год'))\n",
    "c1 = round(zp * ip / 100 * 12)\n",
    "c2 = round(zp * ((1 - life/100 - ip /100) * 12 + (0.5 * bonus)))\n",
    "print('На ипотеку было потрачено', c1, 'рублей')\n",
    "print('Было накоплено', c2, 'рублей')"
   ]
  },
  {
   "cell_type": "code",
   "execution_count": 16,
   "metadata": {},
   "outputs": [
    {
     "name": "stdout",
     "output_type": "stream",
     "text": [
      "239999.99999999994\n"
     ]
    }
   ],
   "source": [
    "print(100000 * ((1 - (50 + 30)/100) * 12) + 0.5 * 2)"
   ]
  },
  {
   "cell_type": "code",
   "execution_count": 19,
   "metadata": {},
   "outputs": [
    {
     "data": {
      "text/plain": [
       "0.19999999999999996"
      ]
     },
     "execution_count": 19,
     "metadata": {},
     "output_type": "execute_result"
    }
   ],
   "source": []
  },
  {
   "cell_type": "code",
   "execution_count": null,
   "metadata": {},
   "outputs": [],
   "source": []
  }
 ],
 "metadata": {
  "kernelspec": {
   "display_name": "Python 3",
   "language": "python",
   "name": "python3"
  },
  "language_info": {
   "codemirror_mode": {
    "name": "ipython",
    "version": 3
   },
   "file_extension": ".py",
   "mimetype": "text/x-python",
   "name": "python",
   "nbconvert_exporter": "python",
   "pygments_lexer": "ipython3",
   "version": "3.7.6"
  }
 },
 "nbformat": 4,
 "nbformat_minor": 4
}
